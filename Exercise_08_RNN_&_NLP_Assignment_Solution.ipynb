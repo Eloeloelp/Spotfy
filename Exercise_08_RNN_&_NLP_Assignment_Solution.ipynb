{
  "cells": [
    {
      "cell_type": "markdown",
      "id": "a3fa2d25-42a7-43d4-b6b0-6b677e98ac58",
      "metadata": {
        "id": "a3fa2d25-42a7-43d4-b6b0-6b677e98ac58"
      },
      "source": [
        "# Exercise 08 RNN & NLP - Assignment - Solution\n",
        "\n",
        "<span style=\"color:red\">**The submission deadline of this assignment is February 23, 2025 at 23:59.**</span>\n",
        "\n",
        "<span style=\"color:red\">**In addition to the executed Jupyter Notebook, please also submit the saved `.pth` file of the trained CNN on Learn.**</span>"
      ]
    },
    {
      "cell_type": "markdown",
      "id": "9df67127-182e-47ab-841c-e7c3fbcdcce7",
      "metadata": {
        "id": "9df67127-182e-47ab-841c-e7c3fbcdcce7"
      },
      "source": [
        "## Pedagogy\n",
        "\n",
        "This notebook contains both theoretical explanations and executable cells to execute your code.\n",
        "\n",
        "When you see the <span style=\"color:red\">**[TBC]**</span> (To Be Completed) sign, it means that you need to perform an action else besides executing the cells of code that already exist. These actions can be:\n",
        "- Complete the code with proper comments\n",
        "- Respond to a question\n",
        "- Write an analysis\n",
        "- etc."
      ]
    },
    {
      "cell_type": "markdown",
      "id": "88854a57-7ddb-4158-ae61-24501b32afcd",
      "metadata": {
        "id": "88854a57-7ddb-4158-ae61-24501b32afcd"
      },
      "source": [
        "## Requirement\n",
        "\n",
        "In this assignment, you are required to build a text-classifier using LSTM.\n",
        "\n",
        "The problem to be solved is to predict the class of a product based on the product page (title and description) on the E-commerce platform:\n",
        "\n",
        "|Class|Example product page|\n",
        "|-|-|\n",
        "|Books|Inner Engineering: A Yogi's Guide to Joy About the Author Sadhguru Jaggi VasudevSADHGURU is a yogi, mystic, and visionary who established the Isha Foundation, a nonprofit dedicated to the cultivation of human potential...|\n",
        "|Clothing & Accessories|Amour Butterfly Design Sunglasses For Girls 6+ Years { SKU16 } Amour Butterfly Design Sunglasses to give full protection. Very light weight. Highly durable. Its safe for kids eyes and give full eye protection against harmful uv rays...|\n",
        "|Electronics|Bluetooth Dongle USB CSR 4.0 Adapter Receiver Transfer Wireless Adapter for PC Computer Laptop Supports Windows 10 8.1 8 7 Vista XP - Upgraded Version...|\n",
        "|Household|Paper Plane Design Framed Wall Hanging Motivational Office Decor Art Prints (8.7 X 8.7 inch) - Set of 4 Painting made up in synthetic frame with uv textured print which gives multi effects and attracts towards it. This is an special series of paintings which makes your wall very beautiful and gives a royal touch...|\n",
        "\n",
        "<span style=\"color:red\">**[TBC]**</span> Please complete the following tasks:\n",
        "- Build the data pipeline\n",
        "- Create a LSTM-based text classifier\n",
        "- Train the network,\n",
        "- Reload the best model\n",
        "- Evaluation using the test set\n",
        "- Make predictions on unseen data"
      ]
    },
    {
      "cell_type": "code",
      "execution_count": null,
      "id": "1b8f237a-34db-4f0d-927f-de90aa1b4980",
      "metadata": {
        "id": "1b8f237a-34db-4f0d-927f-de90aa1b4980"
      },
      "outputs": [],
      "source": [
        "classes = ['Books', 'Clothing & Accessories', 'Electronics', 'Household']"
      ]
    },
    {
      "cell_type": "markdown",
      "id": "60963915-5eda-4f40-bdb7-9b08b0f89f8a",
      "metadata": {
        "id": "60963915-5eda-4f40-bdb7-9b08b0f89f8a"
      },
      "source": [
        "### Pre-configure\n",
        "\n",
        "- Import necessary libraries\n",
        "- Specify the computation device of PyTorch"
      ]
    },
    {
      "cell_type": "code",
      "execution_count": null,
      "id": "049b81b1-8cf6-457e-a2f5-7a43e528d90c",
      "metadata": {
        "id": "049b81b1-8cf6-457e-a2f5-7a43e528d90c"
      },
      "outputs": [],
      "source": [
        "# [TBC] complete your code here with proper comments\n",
        "# import libraries\n",
        "import os\n",
        "import warnings\n",
        "import datetime\n",
        "\n",
        "\n",
        "import numpy as np\n",
        "import pandas as pd\n",
        "import matplotlib.pyplot as plt\n",
        "\n",
        "from tqdm import tqdm\n",
        "from sklearn.metrics import classification_report\n",
        "\n",
        "import torch\n",
        "from torch import nn\n",
        "from torch.utils.data import Dataset, DataLoader\n",
        "from torch.utils.data.dataset import random_split\n",
        "\n",
        "# for padding a list of variable length tensors to equal length\n",
        "from torch.nn.utils.rnn import pad_sequence\n",
        "# for packing a tensor containing padded sequences of variable length\n",
        "from torch.nn.utils.rnn import pack_padded_sequence\n",
        "\n",
        "import nltk\n",
        "# for removing stop words like 'the', 'and', etc\n",
        "# stop words don't provide useful information\n",
        "from nltk.corpus import stopwords\n",
        "# for tokenization\n",
        "from nltk.tokenize import word_tokenize\n",
        "\n",
        "# for counting the number of unique tokens\n",
        "from collections import Counter"
      ]
    },
    {
      "cell_type": "code",
      "execution_count": null,
      "id": "2cf49582-f2ac-4239-9ea6-f331accd16c8",
      "metadata": {
        "id": "2cf49582-f2ac-4239-9ea6-f331accd16c8"
      },
      "outputs": [],
      "source": [
        "# suppress all warnings\n",
        "warnings.filterwarnings(\"ignore\")"
      ]
    },
    {
      "cell_type": "code",
      "execution_count": null,
      "id": "de08e611-20c3-4661-a581-ef8b755eb1e8",
      "metadata": {
        "id": "de08e611-20c3-4661-a581-ef8b755eb1e8",
        "outputId": "2f99ad02-aaaa-4e24-8aaf-0bb93df65e93"
      },
      "outputs": [
        {
          "name": "stdout",
          "output_type": "stream",
          "text": [
            "Using mps device\n"
          ]
        }
      ],
      "source": [
        "# get cpu, gpu or mps device for computation\n",
        "device = (\n",
        "    \"cuda\"\n",
        "    if torch.cuda.is_available()\n",
        "    else \"mps\"\n",
        "    if torch.backends.mps.is_available()\n",
        "    else \"cpu\"\n",
        ")\n",
        "print(f\"Using {device} device\")"
      ]
    },
    {
      "cell_type": "markdown",
      "id": "eb3e537c-8db5-474f-8446-7db6e7968b63",
      "metadata": {
        "id": "eb3e537c-8db5-474f-8446-7db6e7968b63"
      },
      "source": [
        "## Task 1. Build the data pipeline\n",
        "\n",
        "You are required to use `ecommerce_dataset.csv` which can be downloaded from the Learn Platform.\n",
        "\n",
        "<span style=\"color:red\">**[TBC]**</span> You need to:\n",
        "- Load the dataset from the `ecommerce_dataset.csv` file\n",
        "- Pre-process the text\n",
        "    - Tokenization\n",
        "    - Remove stop words (like 'and', 'the') that don't provide useful information\n",
        "    - Remove non-alphabetic tokens\n",
        "- Create the vocabulary\n",
        "- Encode the tokens\n",
        "- Create the Dataset and the Dataloader\n",
        "    - Pad the tensors with variable lengths to equal length"
      ]
    },
    {
      "cell_type": "code",
      "execution_count": null,
      "id": "71d10586-4c4b-4f5d-a8ec-b3e28aa67c95",
      "metadata": {
        "id": "71d10586-4c4b-4f5d-a8ec-b3e28aa67c95",
        "outputId": "3890aecf-214c-4837-a8f6-2909ffc87a94"
      },
      "outputs": [
        {
          "data": {
            "text/html": [
              "<div>\n",
              "<style scoped>\n",
              "    .dataframe tbody tr th:only-of-type {\n",
              "        vertical-align: middle;\n",
              "    }\n",
              "\n",
              "    .dataframe tbody tr th {\n",
              "        vertical-align: top;\n",
              "    }\n",
              "\n",
              "    .dataframe thead th {\n",
              "        text-align: right;\n",
              "    }\n",
              "</style>\n",
              "<table border=\"1\" class=\"dataframe\">\n",
              "  <thead>\n",
              "    <tr style=\"text-align: right;\">\n",
              "      <th></th>\n",
              "      <th>text</th>\n",
              "      <th>label</th>\n",
              "    </tr>\n",
              "  </thead>\n",
              "  <tbody>\n",
              "    <tr>\n",
              "      <th>0</th>\n",
              "      <td>Paper Plane Design Framed Wall Hanging Motivat...</td>\n",
              "      <td>3</td>\n",
              "    </tr>\n",
              "    <tr>\n",
              "      <th>1</th>\n",
              "      <td>SAF 'Floral' Framed Painting (Wood, 30 inch x ...</td>\n",
              "      <td>3</td>\n",
              "    </tr>\n",
              "    <tr>\n",
              "      <th>2</th>\n",
              "      <td>SAF 'UV Textured Modern Art Print Framed' Pain...</td>\n",
              "      <td>3</td>\n",
              "    </tr>\n",
              "    <tr>\n",
              "      <th>3</th>\n",
              "      <td>SAF Flower Print Framed Painting (Synthetic, 1...</td>\n",
              "      <td>3</td>\n",
              "    </tr>\n",
              "    <tr>\n",
              "      <th>4</th>\n",
              "      <td>Incredible Gifts India Wooden Happy Birthday U...</td>\n",
              "      <td>3</td>\n",
              "    </tr>\n",
              "  </tbody>\n",
              "</table>\n",
              "</div>"
            ],
            "text/plain": [
              "                                                text  label\n",
              "0  Paper Plane Design Framed Wall Hanging Motivat...      3\n",
              "1  SAF 'Floral' Framed Painting (Wood, 30 inch x ...      3\n",
              "2  SAF 'UV Textured Modern Art Print Framed' Pain...      3\n",
              "3  SAF Flower Print Framed Painting (Synthetic, 1...      3\n",
              "4  Incredible Gifts India Wooden Happy Birthday U...      3"
            ]
          },
          "execution_count": 5,
          "metadata": {},
          "output_type": "execute_result"
        }
      ],
      "source": [
        "# [TBC] complete your code here with proper comments\n",
        "# load dataset\n",
        "df = pd.read_csv('ecommerce_dataset.csv')\n",
        "df.head()"
      ]
    },
    {
      "cell_type": "code",
      "execution_count": null,
      "id": "09679aeb-b02d-4822-9388-ed09608a6f59",
      "metadata": {
        "id": "09679aeb-b02d-4822-9388-ed09608a6f59",
        "outputId": "be2caec5-5a92-4ed0-8fd6-e2fce7846d99"
      },
      "outputs": [
        {
          "name": "stderr",
          "output_type": "stream",
          "text": [
            "[nltk_data] Downloading package punkt to /Users/tzhang/nltk_data...\n",
            "[nltk_data]   Package punkt is already up-to-date!\n",
            "[nltk_data] Downloading package stopwords to\n",
            "[nltk_data]     /Users/tzhang/nltk_data...\n",
            "[nltk_data]   Package stopwords is already up-to-date!\n",
            "[nltk_data] Downloading package punkt_tab to\n",
            "[nltk_data]     /Users/tzhang/nltk_data...\n",
            "[nltk_data]   Package punkt_tab is already up-to-date!\n"
          ]
        },
        {
          "name": "stdout",
          "output_type": "stream",
          "text": [
            "The number of unique tokens in the vocabulary: 60743\n",
            "The number of most common tokens preserved: 20000\n"
          ]
        }
      ],
      "source": [
        "# ensure NLTK resources are downloaded\n",
        "nltk.download('punkt')\n",
        "nltk.download('stopwords')\n",
        "nltk.download('punkt_tab')\n",
        "\n",
        "# set the stop words to the English mode\n",
        "stop_words = set(stopwords.words('english'))\n",
        "\n",
        "# define a function for pre-processing\n",
        "def preprocess_text(text):\n",
        "    # Tokenize\n",
        "    tokens = word_tokenize(text.lower())\n",
        "    # Remove stopwords and non-alphabetic tokens\n",
        "    tokens = [word for word in tokens if word.isalpha() and word not in stop_words]\n",
        "    return tokens\n",
        "\n",
        "# apply preprocessing to the 'text' column\n",
        "df['tokens'] = df['text'].apply(preprocess_text)\n",
        "\n",
        "# build vocabulary\n",
        "all_tokens = [token for tokens in df['tokens'] for token in tokens]\n",
        "token_counts = Counter(all_tokens)\n",
        "print('The number of unique tokens in the vocabulary:', len(token_counts))\n",
        "\n",
        "# keep the most common token\n",
        "vocab_size = 20000\n",
        "common_tokens = token_counts.most_common(vocab_size - 2)  # Reserve two spots for PAD and UNK tokens\n",
        "print('The number of most common tokens preserved:', vocab_size)\n",
        "\n",
        "# create token to index mapping\n",
        "token_to_idx = {token: idx+2 for idx, (token, _) in enumerate(common_tokens)}\n",
        "# '<PAD>' is used to represent padding tokens at the end of text\n",
        "token_to_idx['<PAD>'] = 0\n",
        "# '<UNK>' is used to represent unknown tokens that are not included in the vocabulary\n",
        "token_to_idx['<UNK>'] = 1\n",
        "\n",
        "# create index to token mapping\n",
        "idx_to_token = {idx: token for token, idx in token_to_idx.items()}\n",
        "\n",
        "# define a function for encoding\n",
        "def encode_tokens(tokens):\n",
        "    return [token_to_idx.get(token, token_to_idx['<UNK>']) for token in tokens]\n",
        "\n",
        "# apply the encoding function to the 'tokens' column\n",
        "df['encoded_tokens'] = df['tokens'].apply(encode_tokens)"
      ]
    },
    {
      "cell_type": "code",
      "execution_count": null,
      "id": "4b0073fc-9d1c-406b-8288-79ce5e14119c",
      "metadata": {
        "id": "4b0073fc-9d1c-406b-8288-79ce5e14119c"
      },
      "outputs": [],
      "source": [
        "# define a custom Dataset class to store the data as tensors\n",
        "class AGNewsDataset(Dataset):\n",
        "    def __init__(self, encoded_tokens_list, labels):\n",
        "        self.encoded_tokens_list = encoded_tokens_list\n",
        "        self.labels = labels\n",
        "\n",
        "    def __len__(self):\n",
        "        return len(self.encoded_tokens_list)\n",
        "\n",
        "    def __getitem__(self, idx):\n",
        "        X = self.encoded_tokens_list[idx]\n",
        "        y = self.labels[idx]\n",
        "        X = torch.tensor(X, dtype=torch.long)\n",
        "        y = torch.tensor(y, dtype=torch.long)\n",
        "        return X, y"
      ]
    },
    {
      "cell_type": "code",
      "execution_count": null,
      "id": "caf21b77-a68a-41c2-b5f5-6ebb726b6351",
      "metadata": {
        "id": "caf21b77-a68a-41c2-b5f5-6ebb726b6351"
      },
      "outputs": [],
      "source": [
        "# create the training, test and validation dataset\n",
        "ds = AGNewsDataset(df['encoded_tokens'].values, df['label'].values)\n",
        "train_val_ds, test_ds = random_split(ds, [0.7, 0.3])\n",
        "train_ds, val_ds = random_split(train_val_ds, [0.8, 0.2])"
      ]
    },
    {
      "cell_type": "code",
      "execution_count": null,
      "id": "f525ad9b-0343-49f6-bae0-eb80a391a775",
      "metadata": {
        "id": "f525ad9b-0343-49f6-bae0-eb80a391a775"
      },
      "outputs": [],
      "source": [
        "# define a collate function to pad the sequences in the same batch to equal length\n",
        "# in addition to the padded_X and y, also return the length of X before padding\n",
        "def collate_batch(batch):\n",
        "    batch_X, batch_y, batch_length = [], [], []\n",
        "    for (X, y) in batch:\n",
        "        batch_X.append(X)\n",
        "        batch_y.append(y)\n",
        "        batch_length.append(len(X))\n",
        "    batch_length = torch.tensor(batch_length, dtype=torch.int64)\n",
        "    batch_y = torch.tensor(batch_y, dtype=torch.int64)\n",
        "    # pad sequences to equal length\n",
        "    batch_X = pad_sequence(batch_X, batch_first = True)\n",
        "    return batch_X, batch_y, batch_length"
      ]
    },
    {
      "cell_type": "code",
      "execution_count": null,
      "id": "1e675a88-683c-4894-a419-046201e18ed7",
      "metadata": {
        "id": "1e675a88-683c-4894-a419-046201e18ed7"
      },
      "outputs": [],
      "source": [
        "# create the training, validation, and test data loaders\n",
        "batch_size = 512 # usually set to 2 to the nth power\n",
        "train_dl = DataLoader(train_ds, batch_size = batch_size, shuffle = True, collate_fn = collate_batch)\n",
        "val_dl = DataLoader(val_ds, batch_size = batch_size, shuffle = False, collate_fn = collate_batch)\n",
        "test_dl = DataLoader(test_ds, batch_size = batch_size, shuffle = False, collate_fn = collate_batch)"
      ]
    },
    {
      "cell_type": "markdown",
      "id": "b1d8cfb7-7892-4e14-9332-082cca585e6b",
      "metadata": {
        "id": "b1d8cfb7-7892-4e14-9332-082cca585e6b"
      },
      "source": [
        "## Task 2. Create a CNN-based image classifier\n",
        "\n",
        "<span style=\"color:red\">**[TBC]**</span> You need to:\n",
        "- Define a custom class to specify the structure and the forward method of the network\n",
        "    - You are required to use `nn.LSTM()` layer in the network\n",
        "- Create an instance of the network and move it to the computation device"
      ]
    },
    {
      "cell_type": "code",
      "execution_count": null,
      "id": "08ad5dfa-45d0-4d34-8b9b-dd56b622c053",
      "metadata": {
        "id": "08ad5dfa-45d0-4d34-8b9b-dd56b622c053"
      },
      "outputs": [],
      "source": [
        "# [TBC] complete your code here with proper comments\n",
        "# define a custom neural network class\n",
        "class LSTMClassifier(nn.Module):\n",
        "    def __init__(self, vocab_size, embed_size, hidden_size, num_class):\n",
        "        super().__init__()\n",
        "        self.embedding = nn.Embedding(vocab_size, embed_size)\n",
        "        self.lstm = nn.LSTM(embed_size, hidden_size, batch_first = True)\n",
        "        self.fc = nn.Linear(hidden_size, num_class)\n",
        "\n",
        "    def forward(self, x, lengths):\n",
        "        x = self.embedding(x)\n",
        "        packed_x = pack_padded_sequence(\n",
        "            x, lengths.cpu(), batch_first=True, enforce_sorted=False\n",
        "        )\n",
        "        out, (h, c) = self.lstm(packed_x)\n",
        "        return self.fc(h[-1])\n",
        "\n",
        "# create the neural network\n",
        "embed_size = 64\n",
        "hidden_size = 32\n",
        "num_class = 4\n",
        "model = LSTMClassifier(vocab_size, embed_size, hidden_size, num_class)\n",
        "model = model.to(device)"
      ]
    },
    {
      "cell_type": "markdown",
      "id": "fcb057a4-8a3c-4c50-802b-c1987342d458",
      "metadata": {
        "id": "fcb057a4-8a3c-4c50-802b-c1987342d458"
      },
      "source": [
        "## Task 3. Train the network\n",
        "\n",
        "<span style=\"color:red\">**[TBC]**</span> You need to:\n",
        "- Define a `train()` function\n",
        "- Specify the training hyper-parameters\n",
        "- Train the network\n",
        "- Plot the loss history of the training process"
      ]
    },
    {
      "cell_type": "code",
      "execution_count": null,
      "id": "34be1592-be02-49b5-9417-37ad1037fe36",
      "metadata": {
        "id": "34be1592-be02-49b5-9417-37ad1037fe36"
      },
      "outputs": [],
      "source": [
        "# [TBC] complete your code here with proper comments\n",
        "# define the training function\n",
        "def train(\n",
        "    train_dl,\n",
        "    val_dl,\n",
        "    model,\n",
        "    loss_fn,\n",
        "    optimizer,\n",
        "    epochs,\n",
        "    early_stopping_patience,\n",
        "    lr_scheduler,\n",
        "    saved_path_prefix\n",
        "):\n",
        "    # initialization\n",
        "    min_val_loss = np.inf\n",
        "    patience_counter = 0\n",
        "    histories = {\n",
        "        'train_batch': [],\n",
        "        'train_epoch': [],\n",
        "        'val_batch': [],\n",
        "        'val_epoch': []\n",
        "    }\n",
        "    saved_path = ''\n",
        "    start_time = datetime.datetime.now()\n",
        "\n",
        "    # start training\n",
        "    for epoch in range(epochs):\n",
        "        # train set\n",
        "        train_epoch_loss = 0.0\n",
        "        model.train()\n",
        "        for X, y, lens in tqdm(train_dl, desc = f'Training batch\\t'): # tqdm progress bar\n",
        "            X, y, lens = X.to(device), y.to(device), lens.to(device)\n",
        "            logits = model(X, lens)\n",
        "            train_batch_loss = loss_fn(logits, y)\n",
        "            train_batch_loss.backward()\n",
        "            optimizer.step()\n",
        "            optimizer.zero_grad()\n",
        "            histories['train_batch'].append(train_batch_loss.item())\n",
        "            train_epoch_loss += train_batch_loss.item()\n",
        "        train_epoch_loss /= len(train_dl)\n",
        "        histories['train_epoch'].append(train_epoch_loss)\n",
        "\n",
        "        # validation set\n",
        "        val_epoch_loss = 0.0\n",
        "        model.eval()\n",
        "        with torch.no_grad():\n",
        "            for X, y, lens in tqdm(val_dl, desc = f'Validation batch'): # tqdm progress bar\n",
        "                X, y, lens = X.to(device), y.to(device), lens.to(device)\n",
        "                logits = model(X, lens)\n",
        "                val_batch_loss = loss_fn(logits, y)\n",
        "                histories['val_batch'].append(val_batch_loss.item())\n",
        "                val_epoch_loss += val_batch_loss.item()\n",
        "            val_epoch_loss /= len(val_dl)\n",
        "            histories['val_epoch'].append(val_epoch_loss)\n",
        "\n",
        "        # print log\n",
        "        end_time = datetime.datetime.now()\n",
        "        time_consumed = str(end_time - start_time).split('.')[0]\n",
        "        print(f\"Epoch {epoch + 1}: train loss = {train_epoch_loss:>5f}, val loss = {val_epoch_loss:>5f}, time consumed = {time_consumed}\")\n",
        "\n",
        "        # learning rate decay\n",
        "        current_lr = optimizer.param_groups[0]['lr']\n",
        "        lr_scheduler.step(val_epoch_loss)\n",
        "        new_lr = optimizer.param_groups[0]['lr']\n",
        "        if current_lr != new_lr:\n",
        "            print(f'Learning rate reduced after epoch {epoch+1}\\n')\n",
        "\n",
        "        # early stopping\n",
        "        if val_epoch_loss < min_val_loss:\n",
        "            min_val_loss = val_epoch_loss\n",
        "            patience_counter = 0\n",
        "            if os.path.exists(saved_path):\n",
        "                os.remove(saved_path)\n",
        "            time_str = datetime.datetime.now().strftime(\"%Y-%m-%d_%H-%M-%S\")\n",
        "            saved_path = saved_path_prefix + f'_epoch_{epoch+1}_val_loss_{val_epoch_loss:>4f}_{time_str}.pth'\n",
        "            torch.save(model.state_dict(), saved_path)\n",
        "            print(f'Model saved after epoch {epoch+1}\\n')\n",
        "        else:\n",
        "            patience_counter += 1\n",
        "        if patience_counter >= early_stopping_patience:\n",
        "            print('Early stopping!')\n",
        "            break\n",
        "    return histories, saved_path"
      ]
    },
    {
      "cell_type": "code",
      "execution_count": null,
      "id": "7817b0c6-21a2-443a-8a7f-581a429226d4",
      "metadata": {
        "id": "7817b0c6-21a2-443a-8a7f-581a429226d4"
      },
      "outputs": [],
      "source": [
        "# define the training hyper-parameters\n",
        "loss_fn = nn.CrossEntropyLoss()\n",
        "learning_rate = 1e-1\n",
        "weight_decay = 1e-5\n",
        "optimizer = torch.optim.SGD(\n",
        "    model.parameters(),\n",
        "    lr = learning_rate,\n",
        "    weight_decay = weight_decay\n",
        ")\n",
        "epochs = 1000\n",
        "early_stopping_patience = 10\n",
        "lr_scheduler = torch.optim.lr_scheduler.ReduceLROnPlateau(\n",
        "    optimizer,\n",
        "    mode = 'min',\n",
        "    factor = 0.1,\n",
        "    patience = 5\n",
        ")\n",
        "saved_path_prefix = 'ecommerce_classifier'"
      ]
    },
    {
      "cell_type": "code",
      "execution_count": null,
      "id": "18f4d4bf-5989-4398-8df7-73d01f024eef",
      "metadata": {
        "id": "18f4d4bf-5989-4398-8df7-73d01f024eef",
        "outputId": "18cfc411-6e12-4537-c250-e64cac0752f1"
      },
      "outputs": [
        {
          "name": "stderr",
          "output_type": "stream",
          "text": [
            "Training batch\t: 100%|█████████████████████████████████████████████████████████████████████| 79/79 [02:06<00:00,  1.60s/it]\n",
            "Validation batch: 100%|████████████████████████████████████████████████████████████████████| 20/20 [00:04<00:00,  4.65it/s]\n"
          ]
        },
        {
          "name": "stdout",
          "output_type": "stream",
          "text": [
            "Epoch 1: train loss = 1.342090, val loss = 1.327258, time consumed = 0:02:10\n",
            "Model saved after epoch 1\n",
            "\n"
          ]
        },
        {
          "name": "stderr",
          "output_type": "stream",
          "text": [
            "Training batch\t: 100%|█████████████████████████████████████████████████████████████████████| 79/79 [01:53<00:00,  1.44s/it]\n",
            "Validation batch: 100%|████████████████████████████████████████████████████████████████████| 20/20 [00:04<00:00,  4.82it/s]\n"
          ]
        },
        {
          "name": "stdout",
          "output_type": "stream",
          "text": [
            "Epoch 2: train loss = 1.316541, val loss = 1.310292, time consumed = 0:04:08\n",
            "Model saved after epoch 2\n",
            "\n"
          ]
        },
        {
          "name": "stderr",
          "output_type": "stream",
          "text": [
            "Training batch\t: 100%|█████████████████████████████████████████████████████████████████████| 79/79 [01:52<00:00,  1.42s/it]\n",
            "Validation batch: 100%|████████████████████████████████████████████████████████████████████| 20/20 [00:03<00:00,  5.18it/s]\n"
          ]
        },
        {
          "name": "stdout",
          "output_type": "stream",
          "text": [
            "Epoch 3: train loss = 1.299428, val loss = 1.292098, time consumed = 0:06:04\n",
            "Model saved after epoch 3\n",
            "\n"
          ]
        },
        {
          "name": "stderr",
          "output_type": "stream",
          "text": [
            "Training batch\t: 100%|█████████████████████████████████████████████████████████████████████| 79/79 [01:47<00:00,  1.37s/it]\n",
            "Validation batch: 100%|████████████████████████████████████████████████████████████████████| 20/20 [00:03<00:00,  5.16it/s]\n"
          ]
        },
        {
          "name": "stdout",
          "output_type": "stream",
          "text": [
            "Epoch 4: train loss = 1.281122, val loss = 1.272943, time consumed = 0:07:56\n",
            "Model saved after epoch 4\n",
            "\n"
          ]
        },
        {
          "name": "stderr",
          "output_type": "stream",
          "text": [
            "Training batch\t: 100%|█████████████████████████████████████████████████████████████████████| 79/79 [01:49<00:00,  1.39s/it]\n",
            "Validation batch: 100%|████████████████████████████████████████████████████████████████████| 20/20 [00:03<00:00,  5.28it/s]\n"
          ]
        },
        {
          "name": "stdout",
          "output_type": "stream",
          "text": [
            "Epoch 5: train loss = 1.261815, val loss = 1.253801, time consumed = 0:09:50\n",
            "Model saved after epoch 5\n",
            "\n"
          ]
        },
        {
          "name": "stderr",
          "output_type": "stream",
          "text": [
            "Training batch\t: 100%|█████████████████████████████████████████████████████████████████████| 79/79 [01:49<00:00,  1.39s/it]\n",
            "Validation batch: 100%|████████████████████████████████████████████████████████████████████| 20/20 [00:04<00:00,  4.81it/s]\n"
          ]
        },
        {
          "name": "stdout",
          "output_type": "stream",
          "text": [
            "Epoch 6: train loss = 1.241640, val loss = 1.233956, time consumed = 0:11:43\n",
            "Model saved after epoch 6\n",
            "\n"
          ]
        },
        {
          "name": "stderr",
          "output_type": "stream",
          "text": [
            "Training batch\t: 100%|█████████████████████████████████████████████████████████████████████| 79/79 [01:51<00:00,  1.41s/it]\n",
            "Validation batch: 100%|████████████████████████████████████████████████████████████████████| 20/20 [00:03<00:00,  5.06it/s]\n"
          ]
        },
        {
          "name": "stdout",
          "output_type": "stream",
          "text": [
            "Epoch 7: train loss = 1.220124, val loss = 1.212759, time consumed = 0:13:39\n",
            "Model saved after epoch 7\n",
            "\n"
          ]
        },
        {
          "name": "stderr",
          "output_type": "stream",
          "text": [
            "Training batch\t: 100%|█████████████████████████████████████████████████████████████████████| 79/79 [01:51<00:00,  1.41s/it]\n",
            "Validation batch: 100%|████████████████████████████████████████████████████████████████████| 20/20 [00:03<00:00,  5.13it/s]\n"
          ]
        },
        {
          "name": "stdout",
          "output_type": "stream",
          "text": [
            "Epoch 8: train loss = 1.195910, val loss = 1.188874, time consumed = 0:15:34\n",
            "Model saved after epoch 8\n",
            "\n"
          ]
        },
        {
          "name": "stderr",
          "output_type": "stream",
          "text": [
            "Training batch\t: 100%|█████████████████████████████████████████████████████████████████████| 79/79 [01:48<00:00,  1.38s/it]\n",
            "Validation batch: 100%|████████████████████████████████████████████████████████████████████| 20/20 [00:03<00:00,  5.28it/s]\n"
          ]
        },
        {
          "name": "stdout",
          "output_type": "stream",
          "text": [
            "Epoch 9: train loss = 1.167216, val loss = 1.158001, time consumed = 0:17:27\n",
            "Model saved after epoch 9\n",
            "\n"
          ]
        },
        {
          "name": "stderr",
          "output_type": "stream",
          "text": [
            "Training batch\t: 100%|█████████████████████████████████████████████████████████████████████| 79/79 [01:51<00:00,  1.41s/it]\n",
            "Validation batch: 100%|████████████████████████████████████████████████████████████████████| 20/20 [00:03<00:00,  5.13it/s]\n"
          ]
        },
        {
          "name": "stdout",
          "output_type": "stream",
          "text": [
            "Epoch 10: train loss = 1.127864, val loss = 1.111743, time consumed = 0:19:22\n",
            "Model saved after epoch 10\n",
            "\n"
          ]
        },
        {
          "name": "stderr",
          "output_type": "stream",
          "text": [
            "Training batch\t: 100%|█████████████████████████████████████████████████████████████████████| 79/79 [01:50<00:00,  1.40s/it]\n",
            "Validation batch: 100%|████████████████████████████████████████████████████████████████████| 20/20 [00:03<00:00,  5.15it/s]\n"
          ]
        },
        {
          "name": "stdout",
          "output_type": "stream",
          "text": [
            "Epoch 11: train loss = 1.055121, val loss = 1.009857, time consumed = 0:21:17\n",
            "Model saved after epoch 11\n",
            "\n"
          ]
        },
        {
          "name": "stderr",
          "output_type": "stream",
          "text": [
            "Training batch\t: 100%|█████████████████████████████████████████████████████████████████████| 79/79 [01:49<00:00,  1.38s/it]\n",
            "Validation batch: 100%|████████████████████████████████████████████████████████████████████| 20/20 [00:03<00:00,  5.18it/s]\n"
          ]
        },
        {
          "name": "stdout",
          "output_type": "stream",
          "text": [
            "Epoch 12: train loss = 0.976770, val loss = 0.938505, time consumed = 0:23:10\n",
            "Model saved after epoch 12\n",
            "\n"
          ]
        },
        {
          "name": "stderr",
          "output_type": "stream",
          "text": [
            "Training batch\t: 100%|█████████████████████████████████████████████████████████████████████| 79/79 [48:35<00:00, 36.90s/it]\n",
            "Validation batch: 100%|████████████████████████████████████████████████████████████████████| 20/20 [00:03<00:00,  5.18it/s]\n"
          ]
        },
        {
          "name": "stdout",
          "output_type": "stream",
          "text": [
            "Epoch 13: train loss = 0.927311, val loss = 0.896168, time consumed = 1:11:50\n",
            "Model saved after epoch 13\n",
            "\n"
          ]
        },
        {
          "name": "stderr",
          "output_type": "stream",
          "text": [
            "Training batch\t: 100%|█████████████████████████████████████████████████████████████████████| 79/79 [01:52<00:00,  1.43s/it]\n",
            "Validation batch: 100%|████████████████████████████████████████████████████████████████████| 20/20 [00:03<00:00,  5.03it/s]\n"
          ]
        },
        {
          "name": "stdout",
          "output_type": "stream",
          "text": [
            "Epoch 14: train loss = 0.915755, val loss = 0.868675, time consumed = 1:13:46\n",
            "Model saved after epoch 14\n",
            "\n"
          ]
        },
        {
          "name": "stderr",
          "output_type": "stream",
          "text": [
            "Training batch\t: 100%|█████████████████████████████████████████████████████████████████████| 79/79 [01:48<00:00,  1.38s/it]\n",
            "Validation batch: 100%|████████████████████████████████████████████████████████████████████| 20/20 [00:03<00:00,  5.32it/s]\n"
          ]
        },
        {
          "name": "stdout",
          "output_type": "stream",
          "text": [
            "Epoch 15: train loss = 0.851310, val loss = 0.822867, time consumed = 1:15:39\n",
            "Model saved after epoch 15\n",
            "\n"
          ]
        },
        {
          "name": "stderr",
          "output_type": "stream",
          "text": [
            "Training batch\t: 100%|█████████████████████████████████████████████████████████████████████| 79/79 [01:51<00:00,  1.41s/it]\n",
            "Validation batch: 100%|████████████████████████████████████████████████████████████████████| 20/20 [00:03<00:00,  5.28it/s]\n"
          ]
        },
        {
          "name": "stdout",
          "output_type": "stream",
          "text": [
            "Epoch 16: train loss = 0.789495, val loss = 0.751184, time consumed = 1:17:34\n",
            "Model saved after epoch 16\n",
            "\n"
          ]
        },
        {
          "name": "stderr",
          "output_type": "stream",
          "text": [
            "Training batch\t: 100%|█████████████████████████████████████████████████████████████████████| 79/79 [01:51<00:00,  1.41s/it]\n",
            "Validation batch: 100%|████████████████████████████████████████████████████████████████████| 20/20 [00:04<00:00,  4.90it/s]\n"
          ]
        },
        {
          "name": "stdout",
          "output_type": "stream",
          "text": [
            "Epoch 17: train loss = 0.708551, val loss = 0.656992, time consumed = 1:19:30\n",
            "Model saved after epoch 17\n",
            "\n"
          ]
        },
        {
          "name": "stderr",
          "output_type": "stream",
          "text": [
            "Training batch\t: 100%|█████████████████████████████████████████████████████████████████████| 79/79 [01:52<00:00,  1.42s/it]\n",
            "Validation batch: 100%|████████████████████████████████████████████████████████████████████| 20/20 [00:03<00:00,  5.26it/s]\n"
          ]
        },
        {
          "name": "stdout",
          "output_type": "stream",
          "text": [
            "Epoch 18: train loss = 0.710973, val loss = 0.669525, time consumed = 1:21:26\n"
          ]
        },
        {
          "name": "stderr",
          "output_type": "stream",
          "text": [
            "Training batch\t: 100%|█████████████████████████████████████████████████████████████████████| 79/79 [01:49<00:00,  1.39s/it]\n",
            "Validation batch: 100%|████████████████████████████████████████████████████████████████████| 20/20 [00:03<00:00,  5.16it/s]\n"
          ]
        },
        {
          "name": "stdout",
          "output_type": "stream",
          "text": [
            "Epoch 19: train loss = 0.680001, val loss = 0.581505, time consumed = 1:23:20\n",
            "Model saved after epoch 19\n",
            "\n"
          ]
        },
        {
          "name": "stderr",
          "output_type": "stream",
          "text": [
            "Training batch\t: 100%|█████████████████████████████████████████████████████████████████████| 79/79 [01:50<00:00,  1.40s/it]\n",
            "Validation batch: 100%|████████████████████████████████████████████████████████████████████| 20/20 [00:03<00:00,  5.11it/s]\n"
          ]
        },
        {
          "name": "stdout",
          "output_type": "stream",
          "text": [
            "Epoch 20: train loss = 0.655153, val loss = 0.663152, time consumed = 1:25:15\n"
          ]
        },
        {
          "name": "stderr",
          "output_type": "stream",
          "text": [
            "Training batch\t: 100%|█████████████████████████████████████████████████████████████████████| 79/79 [01:49<00:00,  1.39s/it]\n",
            "Validation batch: 100%|████████████████████████████████████████████████████████████████████| 20/20 [00:03<00:00,  5.10it/s]\n"
          ]
        },
        {
          "name": "stdout",
          "output_type": "stream",
          "text": [
            "Epoch 21: train loss = 0.553079, val loss = 0.525103, time consumed = 1:27:08\n",
            "Model saved after epoch 21\n",
            "\n"
          ]
        },
        {
          "name": "stderr",
          "output_type": "stream",
          "text": [
            "Training batch\t: 100%|█████████████████████████████████████████████████████████████████████| 79/79 [01:51<00:00,  1.42s/it]\n",
            "Validation batch: 100%|████████████████████████████████████████████████████████████████████| 20/20 [00:03<00:00,  5.14it/s]\n"
          ]
        },
        {
          "name": "stdout",
          "output_type": "stream",
          "text": [
            "Epoch 22: train loss = 0.503972, val loss = 0.650753, time consumed = 1:29:04\n"
          ]
        },
        {
          "name": "stderr",
          "output_type": "stream",
          "text": [
            "Training batch\t: 100%|█████████████████████████████████████████████████████████████████████| 79/79 [01:53<00:00,  1.44s/it]\n",
            "Validation batch: 100%|████████████████████████████████████████████████████████████████████| 20/20 [00:03<00:00,  5.04it/s]\n"
          ]
        },
        {
          "name": "stdout",
          "output_type": "stream",
          "text": [
            "Epoch 23: train loss = 0.646424, val loss = 0.855642, time consumed = 1:31:02\n"
          ]
        },
        {
          "name": "stderr",
          "output_type": "stream",
          "text": [
            "Training batch\t: 100%|█████████████████████████████████████████████████████████████████████| 79/79 [01:51<00:00,  1.41s/it]\n",
            "Validation batch: 100%|████████████████████████████████████████████████████████████████████| 20/20 [00:03<00:00,  5.23it/s]\n"
          ]
        },
        {
          "name": "stdout",
          "output_type": "stream",
          "text": [
            "Epoch 24: train loss = 0.752275, val loss = 0.660886, time consumed = 1:32:57\n"
          ]
        },
        {
          "name": "stderr",
          "output_type": "stream",
          "text": [
            "Training batch\t: 100%|█████████████████████████████████████████████████████████████████████| 79/79 [01:45<00:00,  1.33s/it]\n",
            "Validation batch: 100%|████████████████████████████████████████████████████████████████████| 20/20 [00:03<00:00,  5.20it/s]\n"
          ]
        },
        {
          "name": "stdout",
          "output_type": "stream",
          "text": [
            "Epoch 25: train loss = 0.537828, val loss = 0.490452, time consumed = 1:34:46\n",
            "Model saved after epoch 25\n",
            "\n"
          ]
        },
        {
          "name": "stderr",
          "output_type": "stream",
          "text": [
            "Training batch\t: 100%|█████████████████████████████████████████████████████████████████████| 79/79 [01:45<00:00,  1.33s/it]\n",
            "Validation batch: 100%|████████████████████████████████████████████████████████████████████| 20/20 [00:03<00:00,  5.21it/s]\n"
          ]
        },
        {
          "name": "stdout",
          "output_type": "stream",
          "text": [
            "Epoch 26: train loss = 0.481961, val loss = 0.416612, time consumed = 1:36:35\n",
            "Model saved after epoch 26\n",
            "\n"
          ]
        },
        {
          "name": "stderr",
          "output_type": "stream",
          "text": [
            "Training batch\t: 100%|█████████████████████████████████████████████████████████████████████| 79/79 [01:43<00:00,  1.31s/it]\n",
            "Validation batch: 100%|████████████████████████████████████████████████████████████████████| 20/20 [00:03<00:00,  5.14it/s]\n"
          ]
        },
        {
          "name": "stdout",
          "output_type": "stream",
          "text": [
            "Epoch 27: train loss = 0.387048, val loss = 0.381911, time consumed = 1:38:23\n",
            "Model saved after epoch 27\n",
            "\n"
          ]
        },
        {
          "name": "stderr",
          "output_type": "stream",
          "text": [
            "Training batch\t: 100%|█████████████████████████████████████████████████████████████████████| 79/79 [01:46<00:00,  1.35s/it]\n",
            "Validation batch: 100%|████████████████████████████████████████████████████████████████████| 20/20 [00:03<00:00,  5.15it/s]\n"
          ]
        },
        {
          "name": "stdout",
          "output_type": "stream",
          "text": [
            "Epoch 28: train loss = 0.439044, val loss = 0.385428, time consumed = 1:40:14\n"
          ]
        },
        {
          "name": "stderr",
          "output_type": "stream",
          "text": [
            "Training batch\t: 100%|█████████████████████████████████████████████████████████████████████| 79/79 [01:46<00:00,  1.35s/it]\n",
            "Validation batch: 100%|████████████████████████████████████████████████████████████████████| 20/20 [00:03<00:00,  5.23it/s]\n"
          ]
        },
        {
          "name": "stdout",
          "output_type": "stream",
          "text": [
            "Epoch 29: train loss = 0.357033, val loss = 0.357710, time consumed = 1:42:04\n",
            "Model saved after epoch 29\n",
            "\n"
          ]
        },
        {
          "name": "stderr",
          "output_type": "stream",
          "text": [
            "Training batch\t: 100%|█████████████████████████████████████████████████████████████████████| 79/79 [01:47<00:00,  1.36s/it]\n",
            "Validation batch: 100%|████████████████████████████████████████████████████████████████████| 20/20 [00:03<00:00,  5.09it/s]\n"
          ]
        },
        {
          "name": "stdout",
          "output_type": "stream",
          "text": [
            "Epoch 30: train loss = 0.333971, val loss = 0.444747, time consumed = 1:43:56\n"
          ]
        },
        {
          "name": "stderr",
          "output_type": "stream",
          "text": [
            "Training batch\t: 100%|█████████████████████████████████████████████████████████████████████| 79/79 [16:35<00:00, 12.60s/it]\n",
            "Validation batch: 100%|████████████████████████████████████████████████████████████████████| 20/20 [00:03<00:00,  5.25it/s]\n"
          ]
        },
        {
          "name": "stdout",
          "output_type": "stream",
          "text": [
            "Epoch 31: train loss = 0.319980, val loss = 0.340580, time consumed = 2:00:35\n",
            "Model saved after epoch 31\n",
            "\n"
          ]
        },
        {
          "name": "stderr",
          "output_type": "stream",
          "text": [
            "Training batch\t: 100%|█████████████████████████████████████████████████████████████████████| 79/79 [01:44<00:00,  1.33s/it]\n",
            "Validation batch: 100%|████████████████████████████████████████████████████████████████████| 20/20 [00:03<00:00,  5.27it/s]\n"
          ]
        },
        {
          "name": "stdout",
          "output_type": "stream",
          "text": [
            "Epoch 32: train loss = 0.306123, val loss = 0.320985, time consumed = 2:02:24\n",
            "Model saved after epoch 32\n",
            "\n"
          ]
        },
        {
          "name": "stderr",
          "output_type": "stream",
          "text": [
            "Training batch\t: 100%|█████████████████████████████████████████████████████████████████████| 79/79 [01:42<00:00,  1.30s/it]\n",
            "Validation batch: 100%|████████████████████████████████████████████████████████████████████| 20/20 [00:03<00:00,  5.40it/s]\n"
          ]
        },
        {
          "name": "stdout",
          "output_type": "stream",
          "text": [
            "Epoch 33: train loss = 0.345684, val loss = 0.349859, time consumed = 2:04:10\n"
          ]
        },
        {
          "name": "stderr",
          "output_type": "stream",
          "text": [
            "Training batch\t: 100%|█████████████████████████████████████████████████████████████████████| 79/79 [01:45<00:00,  1.33s/it]\n",
            "Validation batch: 100%|████████████████████████████████████████████████████████████████████| 20/20 [00:03<00:00,  5.18it/s]\n"
          ]
        },
        {
          "name": "stdout",
          "output_type": "stream",
          "text": [
            "Epoch 34: train loss = 0.324003, val loss = 0.327948, time consumed = 2:05:59\n"
          ]
        },
        {
          "name": "stderr",
          "output_type": "stream",
          "text": [
            "Training batch\t: 100%|█████████████████████████████████████████████████████████████████████| 79/79 [01:45<00:00,  1.34s/it]\n",
            "Validation batch: 100%|████████████████████████████████████████████████████████████████████| 20/20 [00:03<00:00,  5.14it/s]\n"
          ]
        },
        {
          "name": "stdout",
          "output_type": "stream",
          "text": [
            "Epoch 35: train loss = 0.282552, val loss = 0.310346, time consumed = 2:07:49\n",
            "Model saved after epoch 35\n",
            "\n"
          ]
        },
        {
          "name": "stderr",
          "output_type": "stream",
          "text": [
            "Training batch\t: 100%|█████████████████████████████████████████████████████████████████████| 79/79 [01:48<00:00,  1.37s/it]\n",
            "Validation batch: 100%|████████████████████████████████████████████████████████████████████| 20/20 [00:03<00:00,  5.01it/s]\n"
          ]
        },
        {
          "name": "stdout",
          "output_type": "stream",
          "text": [
            "Epoch 36: train loss = 0.264401, val loss = 0.306181, time consumed = 2:09:41\n",
            "Model saved after epoch 36\n",
            "\n"
          ]
        },
        {
          "name": "stderr",
          "output_type": "stream",
          "text": [
            "Training batch\t: 100%|█████████████████████████████████████████████████████████████████████| 79/79 [01:47<00:00,  1.36s/it]\n",
            "Validation batch: 100%|████████████████████████████████████████████████████████████████████| 20/20 [00:03<00:00,  5.08it/s]\n"
          ]
        },
        {
          "name": "stdout",
          "output_type": "stream",
          "text": [
            "Epoch 37: train loss = 0.271404, val loss = 0.299528, time consumed = 2:11:33\n",
            "Model saved after epoch 37\n",
            "\n"
          ]
        },
        {
          "name": "stderr",
          "output_type": "stream",
          "text": [
            "Training batch\t: 100%|█████████████████████████████████████████████████████████████████████| 79/79 [01:43<00:00,  1.31s/it]\n",
            "Validation batch: 100%|████████████████████████████████████████████████████████████████████| 20/20 [00:04<00:00,  4.79it/s]\n"
          ]
        },
        {
          "name": "stdout",
          "output_type": "stream",
          "text": [
            "Epoch 38: train loss = 0.256967, val loss = 0.289518, time consumed = 2:13:21\n",
            "Model saved after epoch 38\n",
            "\n"
          ]
        },
        {
          "name": "stderr",
          "output_type": "stream",
          "text": [
            "Training batch\t: 100%|█████████████████████████████████████████████████████████████████████| 79/79 [01:46<00:00,  1.35s/it]\n",
            "Validation batch: 100%|████████████████████████████████████████████████████████████████████| 20/20 [00:03<00:00,  5.03it/s]\n"
          ]
        },
        {
          "name": "stdout",
          "output_type": "stream",
          "text": [
            "Epoch 39: train loss = 0.243863, val loss = 0.283710, time consumed = 2:15:12\n",
            "Model saved after epoch 39\n",
            "\n"
          ]
        },
        {
          "name": "stderr",
          "output_type": "stream",
          "text": [
            "Training batch\t: 100%|█████████████████████████████████████████████████████████████████████| 79/79 [01:43<00:00,  1.31s/it]\n",
            "Validation batch: 100%|████████████████████████████████████████████████████████████████████| 20/20 [00:03<00:00,  5.07it/s]\n"
          ]
        },
        {
          "name": "stdout",
          "output_type": "stream",
          "text": [
            "Epoch 40: train loss = 0.243257, val loss = 0.283711, time consumed = 2:16:59\n"
          ]
        },
        {
          "name": "stderr",
          "output_type": "stream",
          "text": [
            "Training batch\t: 100%|█████████████████████████████████████████████████████████████████████| 79/79 [01:44<00:00,  1.32s/it]\n",
            "Validation batch: 100%|████████████████████████████████████████████████████████████████████| 20/20 [00:03<00:00,  5.19it/s]\n"
          ]
        },
        {
          "name": "stdout",
          "output_type": "stream",
          "text": [
            "Epoch 41: train loss = 0.227264, val loss = 0.276647, time consumed = 2:18:48\n",
            "Model saved after epoch 41\n",
            "\n"
          ]
        },
        {
          "name": "stderr",
          "output_type": "stream",
          "text": [
            "Training batch\t: 100%|█████████████████████████████████████████████████████████████████████| 79/79 [01:46<00:00,  1.35s/it]\n",
            "Validation batch: 100%|████████████████████████████████████████████████████████████████████| 20/20 [00:04<00:00,  4.91it/s]\n"
          ]
        },
        {
          "name": "stdout",
          "output_type": "stream",
          "text": [
            "Epoch 42: train loss = 0.225898, val loss = 0.273474, time consumed = 2:20:38\n",
            "Model saved after epoch 42\n",
            "\n"
          ]
        },
        {
          "name": "stderr",
          "output_type": "stream",
          "text": [
            "Training batch\t: 100%|█████████████████████████████████████████████████████████████████████| 79/79 [01:46<00:00,  1.35s/it]\n",
            "Validation batch: 100%|████████████████████████████████████████████████████████████████████| 20/20 [00:03<00:00,  5.00it/s]\n"
          ]
        },
        {
          "name": "stdout",
          "output_type": "stream",
          "text": [
            "Epoch 43: train loss = 0.217296, val loss = 0.267656, time consumed = 2:22:29\n",
            "Model saved after epoch 43\n",
            "\n"
          ]
        },
        {
          "name": "stderr",
          "output_type": "stream",
          "text": [
            "Training batch\t: 100%|█████████████████████████████████████████████████████████████████████| 79/79 [01:44<00:00,  1.33s/it]\n",
            "Validation batch: 100%|████████████████████████████████████████████████████████████████████| 20/20 [00:03<00:00,  5.08it/s]\n"
          ]
        },
        {
          "name": "stdout",
          "output_type": "stream",
          "text": [
            "Epoch 44: train loss = 0.210783, val loss = 0.265663, time consumed = 2:24:18\n",
            "Model saved after epoch 44\n",
            "\n"
          ]
        },
        {
          "name": "stderr",
          "output_type": "stream",
          "text": [
            "Training batch\t: 100%|█████████████████████████████████████████████████████████████████████| 79/79 [01:45<00:00,  1.34s/it]\n",
            "Validation batch: 100%|████████████████████████████████████████████████████████████████████| 20/20 [00:03<00:00,  5.17it/s]\n"
          ]
        },
        {
          "name": "stdout",
          "output_type": "stream",
          "text": [
            "Epoch 45: train loss = 0.647301, val loss = 1.032423, time consumed = 2:26:07\n"
          ]
        },
        {
          "name": "stderr",
          "output_type": "stream",
          "text": [
            "Training batch\t: 100%|█████████████████████████████████████████████████████████████████████| 79/79 [01:46<00:00,  1.35s/it]\n",
            "Validation batch: 100%|████████████████████████████████████████████████████████████████████| 20/20 [00:04<00:00,  4.78it/s]\n"
          ]
        },
        {
          "name": "stdout",
          "output_type": "stream",
          "text": [
            "Epoch 46: train loss = 0.830969, val loss = 0.709436, time consumed = 2:27:58\n"
          ]
        },
        {
          "name": "stderr",
          "output_type": "stream",
          "text": [
            "Training batch\t: 100%|█████████████████████████████████████████████████████████████████████| 79/79 [01:46<00:00,  1.34s/it]\n",
            "Validation batch: 100%|████████████████████████████████████████████████████████████████████| 20/20 [00:03<00:00,  5.11it/s]\n"
          ]
        },
        {
          "name": "stdout",
          "output_type": "stream",
          "text": [
            "Epoch 47: train loss = 0.699721, val loss = 0.655574, time consumed = 2:29:48\n"
          ]
        },
        {
          "name": "stderr",
          "output_type": "stream",
          "text": [
            "Training batch\t: 100%|█████████████████████████████████████████████████████████████████████| 79/79 [01:44<00:00,  1.32s/it]\n",
            "Validation batch: 100%|████████████████████████████████████████████████████████████████████| 20/20 [00:03<00:00,  5.03it/s]\n"
          ]
        },
        {
          "name": "stdout",
          "output_type": "stream",
          "text": [
            "Epoch 48: train loss = 0.627709, val loss = 0.623583, time consumed = 2:31:36\n"
          ]
        },
        {
          "name": "stderr",
          "output_type": "stream",
          "text": [
            "Training batch\t: 100%|█████████████████████████████████████████████████████████████████████| 79/79 [01:46<00:00,  1.35s/it]\n",
            "Validation batch: 100%|████████████████████████████████████████████████████████████████████| 20/20 [00:03<00:00,  5.17it/s]\n"
          ]
        },
        {
          "name": "stdout",
          "output_type": "stream",
          "text": [
            "Epoch 49: train loss = 0.656418, val loss = 0.621545, time consumed = 2:33:27\n"
          ]
        },
        {
          "name": "stderr",
          "output_type": "stream",
          "text": [
            "Training batch\t: 100%|█████████████████████████████████████████████████████████████████████| 79/79 [01:48<00:00,  1.37s/it]\n",
            "Validation batch: 100%|████████████████████████████████████████████████████████████████████| 20/20 [00:03<00:00,  5.26it/s]\n"
          ]
        },
        {
          "name": "stdout",
          "output_type": "stream",
          "text": [
            "Epoch 50: train loss = 0.595802, val loss = 0.606909, time consumed = 2:35:19\n",
            "Learning rate reduced after epoch 50\n",
            "\n"
          ]
        },
        {
          "name": "stderr",
          "output_type": "stream",
          "text": [
            "Training batch\t: 100%|█████████████████████████████████████████████████████████████████████| 79/79 [01:46<00:00,  1.34s/it]\n",
            "Validation batch: 100%|████████████████████████████████████████████████████████████████████| 20/20 [00:03<00:00,  5.17it/s]\n"
          ]
        },
        {
          "name": "stdout",
          "output_type": "stream",
          "text": [
            "Epoch 51: train loss = 0.573759, val loss = 0.595951, time consumed = 2:37:09\n"
          ]
        },
        {
          "name": "stderr",
          "output_type": "stream",
          "text": [
            "Training batch\t: 100%|█████████████████████████████████████████████████████████████████████| 79/79 [01:43<00:00,  1.31s/it]\n",
            "Validation batch: 100%|████████████████████████████████████████████████████████████████████| 20/20 [00:04<00:00,  4.94it/s]\n"
          ]
        },
        {
          "name": "stdout",
          "output_type": "stream",
          "text": [
            "Epoch 52: train loss = 0.570971, val loss = 0.594454, time consumed = 2:38:56\n"
          ]
        },
        {
          "name": "stderr",
          "output_type": "stream",
          "text": [
            "Training batch\t: 100%|█████████████████████████████████████████████████████████████████████| 79/79 [01:45<00:00,  1.34s/it]\n",
            "Validation batch: 100%|████████████████████████████████████████████████████████████████████| 20/20 [00:03<00:00,  5.10it/s]\n"
          ]
        },
        {
          "name": "stdout",
          "output_type": "stream",
          "text": [
            "Epoch 53: train loss = 0.569518, val loss = 0.592573, time consumed = 2:40:46\n"
          ]
        },
        {
          "name": "stderr",
          "output_type": "stream",
          "text": [
            "Training batch\t: 100%|█████████████████████████████████████████████████████████████████████| 79/79 [01:45<00:00,  1.33s/it]\n",
            "Validation batch: 100%|████████████████████████████████████████████████████████████████████| 20/20 [00:03<00:00,  5.11it/s]"
          ]
        },
        {
          "name": "stdout",
          "output_type": "stream",
          "text": [
            "Epoch 54: train loss = 0.567415, val loss = 0.590902, time consumed = 2:42:35\n",
            "Early stopping!\n"
          ]
        },
        {
          "name": "stderr",
          "output_type": "stream",
          "text": [
            "\n"
          ]
        }
      ],
      "source": [
        "# train the neural network\n",
        "histories, saved_path = train(\n",
        "    train_dl,\n",
        "    val_dl,\n",
        "    model,\n",
        "    loss_fn,\n",
        "    optimizer,\n",
        "    epochs,\n",
        "    early_stopping_patience,\n",
        "    lr_scheduler,\n",
        "    saved_path_prefix\n",
        ")"
      ]
    },
    {
      "cell_type": "code",
      "execution_count": null,
      "id": "b0c4a21d-bbdf-4d34-b84d-1dd8bf5c5506",
      "metadata": {
        "id": "b0c4a21d-bbdf-4d34-b84d-1dd8bf5c5506",
        "outputId": "baa4e240-8948-48b7-cd42-94ce9b511249"
      },
      "outputs": [
        {
          "data": {
            "image/png": "[encoded data removed]",
            "text/plain": [
              "<Figure size 640x480 with 1 Axes>"
            ]
          },
          "metadata": {},
          "output_type": "display_data"
        }
      ],
      "source": [
        "# plot the train vs. val loss history\n",
        "plt.figure()\n",
        "plt.plot(np.arange(len(histories['train_epoch'])), histories['train_epoch'], '-', label = 'train loss')\n",
        "plt.plot(np.arange(len(histories['val_epoch'])), histories['val_epoch'], '-', label = 'val loss')\n",
        "plt.title('train vs. validation loss history')\n",
        "plt.xlabel('epoch')\n",
        "plt.ylabel('loss')\n",
        "plt.legend()\n",
        "plt.show()"
      ]
    },
    {
      "cell_type": "markdown",
      "id": "15fdf86d-54fa-4b1a-90b0-c78bd3c61c73",
      "metadata": {
        "id": "15fdf86d-54fa-4b1a-90b0-c78bd3c61c73"
      },
      "source": [
        "## Task 4. Reload the best model\n",
        "\n",
        "<span style=\"color:red\">**[TBC]**</span> You need to:\n",
        "- Reload the best trained model saved during the training process\n",
        "- Move the reloaded model to the computation device"
      ]
    },
    {
      "cell_type": "code",
      "execution_count": null,
      "id": "2f688061-c2c3-4830-ad8b-096be41f1271",
      "metadata": {
        "id": "2f688061-c2c3-4830-ad8b-096be41f1271",
        "outputId": "3c0de971-722f-40c7-ba20-54370eae1051"
      },
      "outputs": [
        {
          "data": {
            "text/plain": [
              "LSTMClassifier(\n",
              "  (embedding): Embedding(20000, 64)\n",
              "  (lstm): LSTM(64, 32, batch_first=True)\n",
              "  (fc): Linear(in_features=32, out_features=4, bias=True)\n",
              ")"
            ]
          },
          "execution_count": 16,
          "metadata": {},
          "output_type": "execute_result"
        }
      ],
      "source": [
        "# [TBC] complete your code here with proper comments\n",
        "# reload the best model\n",
        "model.load_state_dict(torch.load(saved_path))\n",
        "model.to(device)"
      ]
    },
    {
      "cell_type": "markdown",
      "id": "4d6cba60-fdb2-4439-bcda-cb4d4fd76c39",
      "metadata": {
        "id": "4d6cba60-fdb2-4439-bcda-cb4d4fd76c39"
      },
      "source": [
        "## Task 5. Test and evaluation\n",
        "\n",
        "<span style=\"color:red\">**[TBC]**</span> You need to:\n",
        "- Define the `test()` function\n",
        "    - Output logits, probabilities and predictions\n",
        "    - Output the loss value on the test set\n",
        "- Make predictions on the test dataset\n",
        "- Evaluate the performance\n",
        "    - Use `sklearn.metrics.classification_report()`"
      ]
    },
    {
      "cell_type": "code",
      "execution_count": null,
      "id": "50b7366a-1fa4-4367-ac20-7cc8844e33f9",
      "metadata": {
        "id": "50b7366a-1fa4-4367-ac20-7cc8844e33f9"
      },
      "outputs": [],
      "source": [
        "# [TBC] complete your code here with proper comments\n",
        "# define a function to make predictions on test dataset and evaluate the performance\n",
        "def test(dataloader, model, loss_fn):\n",
        "    logits, probs, preds = [], [], []\n",
        "    with torch.no_grad():\n",
        "        loss = 0.0\n",
        "        for (X, y, lens) in dataloader:\n",
        "            X, y, lens = X.to(device), y.to(device), lens.to(device)\n",
        "            batch_logits = model(X, lens)\n",
        "            batch_loss = loss_fn(batch_logits, y)\n",
        "            loss += batch_loss.item()\n",
        "\n",
        "            batch_probs = torch.softmax(batch_logits, dim = -1)\n",
        "            _, batch_preds = torch.max(batch_logits, 1)\n",
        "\n",
        "            logits.append(batch_logits.cpu().numpy())\n",
        "            probs.append(batch_probs.cpu().numpy())\n",
        "            preds.append(batch_preds.cpu().numpy())\n",
        "        loss /= len(dataloader)\n",
        "        print(f\"test loss = {loss}\")\n",
        "    return np.concatenate(logits), np.concatenate(probs), np.concatenate(preds), loss"
      ]
    },
    {
      "cell_type": "code",
      "execution_count": null,
      "id": "952d6300-6427-48c0-a349-0dfb51124990",
      "metadata": {
        "id": "952d6300-6427-48c0-a349-0dfb51124990",
        "outputId": "581532f8-05f6-481b-dba1-cfe0e5dd19b9"
      },
      "outputs": [
        {
          "name": "stdout",
          "output_type": "stream",
          "text": [
            "test loss = 0.22163906892140706\n",
            "                        precision    recall  f1-score   support\n",
            "\n",
            "                 Books       0.95      0.94      0.94      3515\n",
            "Clothing & Accessories       0.97      0.95      0.96      2613\n",
            "           Electronics       0.93      0.93      0.93      3151\n",
            "             Household       0.94      0.95      0.94      5847\n",
            "\n",
            "              accuracy                           0.94     15126\n",
            "             macro avg       0.95      0.94      0.94     15126\n",
            "          weighted avg       0.94      0.94      0.94     15126\n",
            "\n"
          ]
        }
      ],
      "source": [
        "# make prediction on test set and evaluate the performance\n",
        "test_logits, test_prob, test_pred, test_loss = test(test_dl, model, loss_fn)\n",
        "\n",
        "# obtain test labels\n",
        "test_label = []\n",
        "for (_, y, _) in test_dl:\n",
        "    test_label.extend(y.cpu().numpy())\n",
        "\n",
        "print(classification_report(test_label, test_pred, target_names = classes))"
      ]
    },
    {
      "cell_type": "markdown",
      "id": "6055ec40-ed58-4f63-85b5-e2e86592fdc3",
      "metadata": {
        "id": "6055ec40-ed58-4f63-85b5-e2e86592fdc3"
      },
      "source": [
        "## Task 6. Make predictions on unseen text\n",
        "\n",
        "<span style=\"color:red\">**[TBC]**</span> You need to:\n",
        "- Define a `predict_text()` function\n",
        "- Specify an unseen product page by yourself\n",
        "    - Use a real product page on the ecommerce platform as Amazon\n",
        "    - Or make up a fake one yourself\n",
        "- Make predictions and display the results"
      ]
    },
    {
      "cell_type": "code",
      "execution_count": null,
      "id": "58103abc-e49e-4721-9118-940fbfe37155",
      "metadata": {
        "id": "58103abc-e49e-4721-9118-940fbfe37155"
      },
      "outputs": [],
      "source": [
        "# [TBC] complete your code here with proper comments\n",
        "# define a function to predict the classes of a list of text\n",
        "def predict_text(model, text_list):\n",
        "    X, lens = [], []\n",
        "    for text in text_list:\n",
        "        tokens = preprocess_text(text)\n",
        "        encoded_tokens = encode_tokens(tokens)\n",
        "        X.append(torch.tensor(encoded_tokens, dtype=torch.int64))\n",
        "        lens.append(len(encoded_tokens))\n",
        "    X = pad_sequence(X, batch_first=True)\n",
        "    lens = torch.tensor(lens, dtype=torch.int64)\n",
        "    with torch.no_grad():\n",
        "        logits = model(X.to(device), lens.to(device))\n",
        "        _, preds = torch.max(logits, 1)\n",
        "    return preds.cpu().numpy()"
      ]
    },
    {
      "cell_type": "code",
      "execution_count": null,
      "id": "45fc3e8d-d07b-4c3e-b549-606b3f1d2306",
      "metadata": {
        "id": "45fc3e8d-d07b-4c3e-b549-606b3f1d2306",
        "outputId": "0a0aaa27-6e66-4923-e045-e3b0089faa61"
      },
      "outputs": [
        {
          "name": "stdout",
          "output_type": "stream",
          "text": [
            "Text: Redmi Y2 (Dark Grey, 4GB RAM, 64GB Storage).\n",
            "Predicted category: Electronics\n",
            "\n",
            "Text: The Courage To Be Disliked Paperback – 3 Jan. 2019.\n",
            "Predicted category: Books\n",
            "\n",
            "Text: Urban Classics Basic Crew Neck Tall Tee Men's T-Shirt.\n",
            "Predicted category: Clothing & Accessories\n",
            "\n",
            "Text: Chanteclair - Intense and Persistent White Musk Linen Fragrance, 22 Doses - 220 ml.\n",
            "Predicted category: Household\n",
            "\n"
          ]
        }
      ],
      "source": [
        "# example texts\n",
        "text_list = [\n",
        "    \"Redmi Y2 (Dark Grey, 4GB RAM, 64GB Storage).\",\n",
        "    \"The Courage To Be Disliked Paperback – 3 Jan. 2019.\",\n",
        "    \"Urban Classics Basic Crew Neck Tall Tee Men's T-Shirt.\",\n",
        "    \"Chanteclair - Intense and Persistent White Musk Linen Fragrance, 22 Doses - 220 ml.\"\n",
        "]\n",
        "# make prediction\n",
        "preds = predict_text(model, text_list)\n",
        "# print results\n",
        "for idx in range(len(text_list)):\n",
        "    text = text_list[idx]\n",
        "    pred = preds[idx]\n",
        "    print(f'Text: {text}\\nPredicted category: {classes[pred]}\\n')"
      ]
    }
  ],
  "metadata": {
    "kernelspec": {
      "display_name": "Python 3 (ipykernel)",
      "language": "python",
      "name": "python3"
    },
    "language_info": {
      "codemirror_mode": {
        "name": "ipython",
        "version": 3
      },
      "file_extension": ".py",
      "mimetype": "text/x-python",
      "name": "python",
      "nbconvert_exporter": "python",
      "pygments_lexer": "ipython3",
      "version": "3.12.8"
    },
    "colab": {
      "provenance": []
    }
  },
  "nbformat": 4,
  "nbformat_minor": 5
}